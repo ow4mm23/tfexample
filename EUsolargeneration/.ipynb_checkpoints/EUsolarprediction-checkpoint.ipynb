{
 "cells": [
  {
   "cell_type": "markdown",
   "metadata": {},
   "source": [
    "## EU solar generation using\n",
    "---\n",
    "30 years EU solar generation data download [here](https://www.kaggle.com/sohier/30-years-of-european-solar-generation/downloads/30-years-of-european-solar-generation.zip/2)\n",
    "---"
   ]
  },
  {
   "cell_type": "code",
   "execution_count": null,
   "metadata": {},
   "outputs": [],
   "source": [
    "import pandas as pd\n",
    "import numpy as np\n",
    "\n",
    "import matplotlib.pyplot as plt\n",
    "\n",
    "import seaborn as sns\n",
    "sns.set_style('darkgrid')"
   ]
  },
  {
   "cell_type": "markdown",
   "metadata": {},
   "source": [
    "### load raw data"
   ]
  },
  {
   "cell_type": "code",
   "execution_count": null,
   "metadata": {
    "scrolled": true
   },
   "outputs": [],
   "source": [
    "# rawdatafilepath=\n",
    "solarcountry =pd.read_csv('./dataset/EMHIRESPV_TSh_CF_Country_19862015.csv')\n",
    "solarcountry.head(5)"
   ]
  },
  {
   "cell_type": "code",
   "execution_count": null,
   "metadata": {},
   "outputs": [],
   "source": [
    "solarcountry.shape"
   ]
  },
  {
   "cell_type": "markdown",
   "metadata": {},
   "source": [
    "re time lable\n",
    "show generation curve of someday among all country"
   ]
  },
  {
   "cell_type": "code",
   "execution_count": null,
   "metadata": {},
   "outputs": [],
   "source": [
    "t=pd.date_range('1/1/1986',periods=262968,freq='H')\n",
    "solarcountry['hour']=t\n",
    "solarcountry.set_index('hour',inplace=True)\n",
    "solarcountry['2015-12-01'].plot()\n",
    "plt.legend(bbox_to_anchor=(1.05,1),loc=2,ncol=2,borderaxespad=0)"
   ]
  },
  {
   "cell_type": "markdown",
   "metadata": {},
   "source": [
    "show generation curve of somemonth among all"
   ]
  },
  {
   "cell_type": "code",
   "execution_count": null,
   "metadata": {},
   "outputs": [],
   "source": [
    "solarcountry['2015-12'].plot()\n",
    "plt.legend(bbox_to_anchor=(1.05,1),loc=2,ncol=2,borderaxespad=0)"
   ]
  },
  {
   "cell_type": "markdown",
   "metadata": {},
   "source": [
    "## per DAY"
   ]
  },
  {
   "cell_type": "code",
   "execution_count": null,
   "metadata": {},
   "outputs": [],
   "source": [
    "solarcountry['day']=solarcountry.index.map(lambda x:x.strftime('%Y-%m-%D'))\n",
    "group_day=solarcountry.groupby('day').mean()\n",
    "group_day.plot()\n",
    "plt.legend(bbox_to_anchor=(1.05,1),loc=2,ncol=2,borderaxespad=0)"
   ]
  },
  {
   "cell_type": "markdown",
   "metadata": {},
   "source": [
    "## per MONTH"
   ]
  },
  {
   "cell_type": "code",
   "execution_count": null,
   "metadata": {},
   "outputs": [],
   "source": [
    "solarcountry['month']=solarcountry.index.map(lambda x:x.strftime('%Y-%m'))\n",
    "solarcountry['montho']=solarcountry.index.map(lambda x:x.strftime('%m'))\n",
    "group_month=solarcountry.groupby('month').mean()\n",
    "group_month.plot()\n",
    "plt.legend(bbox_to_anchor=(1.05,1),loc=2,ncol=2,borderaxespad=0)"
   ]
  },
  {
   "cell_type": "markdown",
   "metadata": {},
   "source": [
    "## per YEAR"
   ]
  },
  {
   "cell_type": "code",
   "execution_count": null,
   "metadata": {},
   "outputs": [],
   "source": [
    "solarcountry['year']=solarcountry.index.map(lambda x:x.strftime('%Y'))\n",
    "group_year=solarcountry.groupby('year').mean()\n",
    "group_year.plot()\n",
    "plt.legend(bbox_to_anchor=(1.05,1),loc=2,ncol=2,borderaxespad=0)"
   ]
  },
  {
   "cell_type": "markdown",
   "metadata": {},
   "source": [
    "## choose some somecountry\n",
    "eg:FR"
   ]
  },
  {
   "cell_type": "code",
   "execution_count": null,
   "metadata": {},
   "outputs": [],
   "source": [
    "FR_heatmap=solarcountry.pivot_table(index='montho',columns='year',values='FR')\n",
    "FR_heatmap.sort_index(level=0,ascending=True,inplace=True)\n",
    "sns.heatmap(FR_heatmap,vmin=0.09,vmax=0.29,cmap='inferno',linewidth=0.5)"
   ]
  },
  {
   "cell_type": "code",
   "execution_count": null,
   "metadata": {},
   "outputs": [],
   "source": [
    "sns.clustermap(FR_heatmap,cmap='inferno',standard_scale=1)"
   ]
  },
  {
   "cell_type": "markdown",
   "metadata": {},
   "source": [
    "## view from time-series perspective"
   ]
  },
  {
   "cell_type": "code",
   "execution_count": null,
   "metadata": {},
   "outputs": [],
   "source": [
    "FR_ts_d=solarcountry.filter(['month','year','FR'],axis=1)\n",
    "FR_ts_d.plot()"
   ]
  },
  {
   "cell_type": "code",
   "execution_count": null,
   "metadata": {},
   "outputs": [],
   "source": [
    "FR_ts_m=FR_ts_d.groupby('month').mean()\n",
    "FR_ts_m.plot()"
   ]
  },
  {
   "cell_type": "code",
   "execution_count": null,
   "metadata": {},
   "outputs": [],
   "source": [
    "FR_ts_y=FR_ts_d.groupby('year').mean()\n",
    "FR_ts_y.plot()"
   ]
  },
  {
   "cell_type": "markdown",
   "metadata": {},
   "source": [
    "# prediction of solar generation"
   ]
  },
  {
   "cell_type": "markdown",
   "metadata": {},
   "source": [
    "1. first try RNN model to predict next hour's solar generation,\n"
   ]
  },
  {
   "cell_type": "code",
   "execution_count": null,
   "metadata": {},
   "outputs": [],
   "source": [
    "fr_nn=solarcountry.filter(['hour','FR'],axis=1)\n",
    "\n",
    "fr_nn=fr_nn.reset_index()\n",
    "fr_nn['hour']=pd.to_datetime(fr_nn['hour'])\n",
    "\n",
    "start=pd.Timestamp('2015-12-01')\n",
    "split=pd.Timestamp('2015-12-22')\n",
    "fr_nn=fr_nn[fr_nn['hour']>=start]\n",
    "\n",
    "fr_nn=fr_nn.set_index('hour')\n",
    "\n",
    "fr_nn.plot()"
   ]
  },
  {
   "cell_type": "code",
   "execution_count": null,
   "metadata": {},
   "outputs": [],
   "source": [
    "train=fr_nn.loc[:split,['FR']]\n",
    "test=fr_nn.loc[split:,['FR']]\n",
    "tr_pl=train\n",
    "te_pl=test\n",
    "ax=tr_pl.plot()\n",
    "te_pl.plot(ax=ax)"
   ]
  },
  {
   "cell_type": "markdown",
   "metadata": {},
   "source": [
    "train set is up to 22nd December,colored in **blue**, and test set is colored in **orange**\n",
    "\n",
    "DATA standardscaler "
   ]
  },
  {
   "cell_type": "code",
   "execution_count": null,
   "metadata": {},
   "outputs": [],
   "source": [
    "from sklearn.preprocessing import StandardScaler\n",
    "\n",
    "sc=StandardScaler()\n",
    "train_sc=sc.fit_transform(train)\n",
    "test_sc=sc.transform(test)\n",
    "\n",
    "# X_train=train_sc[:-1]\n",
    "# y_train=X_train[1:]\n",
    "# X_train=X_train[:-1]\n",
    "\n",
    "# X_test=test_sc[:-1]\n",
    "# y_test=X_test[1:]\n",
    "# X_test=X_test[:-1]"
   ]
  },
  {
   "cell_type": "markdown",
   "metadata": {},
   "source": [
    "### Rolling Windows"
   ]
  },
  {
   "cell_type": "code",
   "execution_count": null,
   "metadata": {},
   "outputs": [],
   "source": [
    "train_df=pd.DataFrame(train_sc,columns=['FR'],index=train.index)\n",
    "test_df=pd.DataFrame(test_sc,columns=['FR'],index=test.index)\n",
    "\n",
    "for i in range(1,25):\n",
    "    train_df['shift {}'.format(i)]=train_df['FR'].shift(i,freq='H')\n",
    "    test_df['shift {}'.format(i)]=test_df['FR'].shift(i,freq='H')\n",
    "\n",
    "train_df.head(5)"
   ]
  },
  {
   "cell_type": "markdown",
   "metadata": {},
   "source": [
    "drop NaN"
   ]
  },
  {
   "cell_type": "code",
   "execution_count": null,
   "metadata": {},
   "outputs": [],
   "source": [
    "X_train=train_df.dropna().drop('FR',axis=1)\n",
    "y_train=train_df.dropna()[['FR']]\n",
    "\n",
    "X_test=test_df.dropna().drop('FR',axis=1)\n",
    "y_test=test_df.dropna()[['FR']]\n",
    "\n",
    "X_train.head(5)"
   ]
  },
  {
   "cell_type": "code",
   "execution_count": null,
   "metadata": {},
   "outputs": [],
   "source": [
    "X_train.shape"
   ]
  },
  {
   "cell_type": "markdown",
   "metadata": {},
   "source": [
    "to np.array"
   ]
  },
  {
   "cell_type": "code",
   "execution_count": null,
   "metadata": {},
   "outputs": [],
   "source": [
    "X_train=X_train.values\n",
    "y_train=y_train.values\n",
    "\n",
    "X_test=X_test.values\n",
    "y_test=y_test.values"
   ]
  },
  {
   "cell_type": "markdown",
   "metadata": {},
   "source": [
    "## Predictive Model\n",
    "\n",
    "re-dimension dataset for LSTM layer"
   ]
  },
  {
   "cell_type": "code",
   "execution_count": null,
   "metadata": {},
   "outputs": [],
   "source": [
    "X_train_w=X_train.reshape(X_train.shape[0],1,24)\n",
    "X_test_w=X_test.reshape(X_test.shape[0],1,24)\n",
    "X_train_w.shape"
   ]
  },
  {
   "cell_type": "code",
   "execution_count": null,
   "metadata": {},
   "outputs": [],
   "source": [
    "from keras.models import Sequential\n",
    "from keras.layers import Dense,LSTM,Flatten\n",
    "from keras.optimizers import Adam\n",
    "from keras.callbacks import EarlyStopping\n",
    "import keras.backend as K"
   ]
  },
  {
   "cell_type": "code",
   "execution_count": null,
   "metadata": {},
   "outputs": [],
   "source": [
    "K.clear_session()\n",
    "\n",
    "eps=50\n",
    "bs=1\n",
    "\n",
    "in_sh=(1,24)\n",
    "hidden_1=12\n",
    "hidden_2=12\n",
    "outputs=1\n",
    "\n",
    "model=Sequential()\n",
    "model.add(LSTM(hidden_1,input_shape=in_sh))\n",
    "model.add(Dense(hidden_2,activation='relu'))\n",
    "model.add(Dense(outputs))\n",
    "model.compile(optimizer='adam',loss='mean_squared_error')\n",
    "model.summary()"
   ]
  },
  {
   "cell_type": "code",
   "execution_count": null,
   "metadata": {},
   "outputs": [],
   "source": [
    "early_stop=EarlyStopping(monitor='loss',patience=1,verbose=1)\n",
    "history=model.fit(X_train_w,y_train,epochs=eps,batch_size=bs,verbose=1,callbacks=[early_stop])"
   ]
  },
  {
   "cell_type": "code",
   "execution_count": null,
   "metadata": {},
   "outputs": [],
   "source": [
    "y_pred=model.predict(X_test_w)\n",
    "\n",
    "y_pred_raw=sc.inverse_transform(y_pred)\n",
    "y_test_raw=sc.inverse_transform(y_test)"
   ]
  },
  {
   "cell_type": "code",
   "execution_count": null,
   "metadata": {
    "scrolled": true
   },
   "outputs": [],
   "source": [
    "plt.plot(y_test_raw)\n",
    "plt.plot(y_pred_raw)"
   ]
  },
  {
   "cell_type": "code",
   "execution_count": null,
   "metadata": {},
   "outputs": [],
   "source": [
    "# history_h=history.history\n",
    "plt.plot(history.epoch,np.array(history.history['loss']),label='train_loss')\n",
    "plt.legend()\n"
   ]
  },
  {
   "cell_type": "code",
   "execution_count": null,
   "metadata": {},
   "outputs": [],
   "source": [
    "# import tensorflow as tf\n",
    "# import tensorboard\n",
    "\n"
   ]
  }
 ],
 "metadata": {
  "kernelspec": {
   "display_name": "Python 3",
   "language": "python",
   "name": "python3"
  },
  "language_info": {
   "codemirror_mode": {
    "name": "ipython",
    "version": 3
   },
   "file_extension": ".py",
   "mimetype": "text/x-python",
   "name": "python",
   "nbconvert_exporter": "python",
   "pygments_lexer": "ipython3",
   "version": "3.7.1"
  }
 },
 "nbformat": 4,
 "nbformat_minor": 2
}
